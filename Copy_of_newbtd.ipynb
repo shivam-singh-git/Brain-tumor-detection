{
  "cells": [
    {
      "cell_type": "markdown",
      "metadata": {
        "id": "view-in-github",
        "colab_type": "text"
      },
      "source": [
        "<a href=\"https://colab.research.google.com/github/shivam-singh-git/Brain-tumor-detection/blob/main/Copy_of_newbtd.ipynb\" target=\"_parent\"><img src=\"https://colab.research.google.com/assets/colab-badge.svg\" alt=\"Open In Colab\"/></a>"
      ]
    },
    {
      "cell_type": "code",
      "execution_count": null,
      "metadata": {
        "colab": {
          "base_uri": "https://localhost:8080/"
        },
        "id": "3J_NM1aFfExW",
        "outputId": "63e0d238-621a-4e21-e8c7-ed95973c1e8c"
      },
      "outputs": [
        {
          "output_type": "stream",
          "name": "stdout",
          "text": [
            "(2320, 128, 128, 3) (580, 128, 128, 3) (2320, 2) (580, 2)\n",
            "Model Loss: 0.38, accuracy: 87.76\n",
            "Evaluate model on test data\n",
            "5/5 [==============================] - 0s 30ms/step - loss: 0.3801 - accuracy: 0.8776\n",
            "test loss, test acc: [0.3800888657569885, 0.8775861859321594]\n"
          ]
        }
      ],
      "source": [
        "import os\n",
        "import keras\n",
        "from keras.models import Sequential\n",
        "from keras.layers import Conv2D, MaxPooling2D, Flatten, Dense, Dropout, BatchNormalization\n",
        "from PIL import Image\n",
        "import numpy as np\n",
        "import pandas as pd\n",
        "import matplotlib.pyplot as plt\n",
        "plt.style.use('dark_background')\n",
        "from sklearn.model_selection import train_test_split\n",
        "from sklearn.preprocessing import OneHotEncoder\n",
        "\n",
        "encoder=OneHotEncoder()\n",
        "encoder.fit([[1], [0]])\n",
        "\n",
        "\n",
        "X=[]\n",
        "paths=[]\n",
        "y=[]\n",
        "z = []\n",
        "\n",
        "for r, d, f in os.walk(r\"/content/drive/MyDrive/btd/yes\"):\n",
        "  for file in f:\n",
        "    if '.jpg'in file:\n",
        "      paths.append(os.path.join(r, file))\n",
        "for path in paths:\n",
        "  img=Image.open(path)\n",
        "  img=img.resize((128, 128))\n",
        "  img=np.array(img)\n",
        "  if(img.shape==(128, 128,3)):\n",
        "    X.append(np.array(img))\n",
        "    y.append(encoder.transform([[1]]).toarray())\n",
        "\n",
        "\n",
        "paths=[]\n",
        "for r, d, f in os.walk(r\"/content/drive/MyDrive/btd/no\"):\n",
        "  for file in f:\n",
        "    if '.jpg'in file :\n",
        "      paths.append(os.path.join(r, file))\n",
        "for path in paths:\n",
        "  img=Image.open(path)\n",
        "  img= img.resize((128,128))\n",
        "  img=np.array(img)\n",
        "  if(img.shape==(128,128,3)):\n",
        "    X.append(np.array(img))\n",
        "    y.append(encoder.transform([[0]]).toarray())\n",
        "\n",
        "\n",
        "X=np.array(X)\n",
        "y=np.array(y)\n",
        "y=y.reshape(2900, 2)\n",
        "\n",
        "paths = []\n",
        "\n",
        "for r, d, f in os.walk(r\"/content/drive/MyDrive/btd/pred\"):\n",
        "  for file in f:\n",
        "    if '.jpg'in file :\n",
        "      paths.append(os.path.join(r, file))\n",
        "for path in paths:\n",
        "  img=Image.open(path)\n",
        "  img= img.resize((128,128))\n",
        "  img=np.array(img)\n",
        "  if(img.shape==(128,128,3)):\n",
        "    z.append(np.array(img))\n",
        "\n",
        "\n",
        "\n",
        "z=np.array(z)\n",
        "\n",
        "X_train, X_test, y_train, y_test = train_test_split(X, y, test_size=0.20, shuffle=True, random_state=42)\n",
        "print(X_train.shape, X_test.shape, y_train.shape, y_test.shape)\n",
        "\n",
        "\n",
        "\n",
        "model=Sequential()\n",
        "model.add(Conv2D(32, kernel_size=(2,2), input_shape=(128,128,3), padding='Same'))\n",
        "model.add(Conv2D(32, kernel_size=(2,2), activation='relu', padding='Same'))\n",
        "\n",
        "model.add(BatchNormalization())\n",
        "model.add(MaxPooling2D(pool_size=(2,2)))\n",
        "model.add(Dropout(0.25))\n",
        "\n",
        "model.add(Conv2D(64, kernel_size=(2,2), activation='relu', padding='Same'))\n",
        "model.add(Conv2D(64, kernel_size=(2,2), activation='relu', padding='Same'))\n",
        "\n",
        "model.add(BatchNormalization())\n",
        "model.add(MaxPooling2D(pool_size=(2,2), strides=(2,2)))\n",
        "model.add(Dropout(0.25))\n",
        "model.add(Flatten())\n",
        "model.add(Dense(512, activation='relu'))\n",
        "model.add(Dropout(0.5))\n",
        "model.add(Dense(2, activation='sigmoid'))\n",
        "\n",
        "model.compile(loss= 'categorical_crossentropy', optimizer='Adam', metrics = ['accuracy'])\n",
        "\n",
        "model.fit(X_train, y_train, batch_size= 128, epochs =10, verbose =0,  validation_data =(X_test, y_test))\n",
        "\n",
        "\n",
        "loss, accuracy =model.evaluate(X_test, y_test, verbose=0)\n",
        "print('Model Loss: %0.2f, accuracy: %0.2f' %((loss), (accuracy*100)))\n",
        "\n",
        "\n",
        "print(\"Evaluate model on test data\")\n",
        "results = model.evaluate(X_test, y_test, batch_size=128)\n",
        "print(\"test loss, test acc:\", results)\n"
      ]
    },
    {
      "cell_type": "code",
      "source": [
        "def plot_metrics(history):\n",
        "\n",
        "    train_loss = history['loss']\n",
        "    val_loss = history['val_loss']\n",
        "    train_acc = history['acc']\n",
        "    val_acc = history['val_acc']\n",
        "\n",
        "    # Loss\n",
        "    plt.figure()\n",
        "    plt.plot(train_loss, label='Training Loss')\n",
        "    plt.plot(val_loss, label='Validation Loss')\n",
        "    plt.title('Loss')\n",
        "    plt.legend()\n",
        "    plt.show()\n",
        "\n",
        "    # Accuracy\n",
        "    plt.figure()\n",
        "    plt.plot(train_acc, label='Training Accuracy')\n",
        "    plt.plot(val_acc, label='Validation Accuracy')\n",
        "    plt.title('Accuracy')\n",
        "    plt.legend()\n",
        "    plt.show()"
      ],
      "metadata": {
        "id": "phc4pn3AJsqj"
      },
      "execution_count": null,
      "outputs": []
    },
    {
      "cell_type": "code",
      "source": [
        "history = model.history.history"
      ],
      "metadata": {
        "id": "_vmOwllelJyI"
      },
      "execution_count": null,
      "outputs": []
    },
    {
      "cell_type": "code",
      "source": [
        "for keys in history.keys():\n",
        "  print(keys)"
      ],
      "metadata": {
        "id": "ZN5eARv2lp5a"
      },
      "execution_count": null,
      "outputs": []
    },
    {
      "cell_type": "code",
      "source": [
        "plot_metrics(history)"
      ],
      "metadata": {
        "colab": {
          "base_uri": "https://localhost:8080/",
          "height": 263
        },
        "id": "L65sAdr2KAAc",
        "outputId": "c2464114-d992-47d6-d94c-99ea60d5201e"
      },
      "execution_count": null,
      "outputs": [
        {
          "output_type": "error",
          "ename": "KeyError",
          "evalue": "'loss'",
          "traceback": [
            "\u001b[0;31m---------------------------------------------------------------------------\u001b[0m",
            "\u001b[0;31mKeyError\u001b[0m                                  Traceback (most recent call last)",
            "\u001b[0;32m<ipython-input-7-fee00fd956d8>\u001b[0m in \u001b[0;36m<cell line: 1>\u001b[0;34m()\u001b[0m\n\u001b[0;32m----> 1\u001b[0;31m \u001b[0mplot_metrics\u001b[0m\u001b[0;34m(\u001b[0m\u001b[0mhistory\u001b[0m\u001b[0;34m)\u001b[0m\u001b[0;34m\u001b[0m\u001b[0;34m\u001b[0m\u001b[0m\n\u001b[0m",
            "\u001b[0;32m<ipython-input-3-1c565da330b4>\u001b[0m in \u001b[0;36mplot_metrics\u001b[0;34m(history)\u001b[0m\n\u001b[1;32m      1\u001b[0m \u001b[0;32mdef\u001b[0m \u001b[0mplot_metrics\u001b[0m\u001b[0;34m(\u001b[0m\u001b[0mhistory\u001b[0m\u001b[0;34m)\u001b[0m\u001b[0;34m:\u001b[0m\u001b[0;34m\u001b[0m\u001b[0;34m\u001b[0m\u001b[0m\n\u001b[1;32m      2\u001b[0m \u001b[0;34m\u001b[0m\u001b[0m\n\u001b[0;32m----> 3\u001b[0;31m     \u001b[0mtrain_loss\u001b[0m \u001b[0;34m=\u001b[0m \u001b[0mhistory\u001b[0m\u001b[0;34m[\u001b[0m\u001b[0;34m'loss'\u001b[0m\u001b[0;34m]\u001b[0m\u001b[0;34m\u001b[0m\u001b[0;34m\u001b[0m\u001b[0m\n\u001b[0m\u001b[1;32m      4\u001b[0m     \u001b[0mval_loss\u001b[0m \u001b[0;34m=\u001b[0m \u001b[0mhistory\u001b[0m\u001b[0;34m[\u001b[0m\u001b[0;34m'val_loss'\u001b[0m\u001b[0;34m]\u001b[0m\u001b[0;34m\u001b[0m\u001b[0;34m\u001b[0m\u001b[0m\n\u001b[1;32m      5\u001b[0m     \u001b[0mtrain_acc\u001b[0m \u001b[0;34m=\u001b[0m \u001b[0mhistory\u001b[0m\u001b[0;34m[\u001b[0m\u001b[0;34m'acc'\u001b[0m\u001b[0;34m]\u001b[0m\u001b[0;34m\u001b[0m\u001b[0;34m\u001b[0m\u001b[0m\n",
            "\u001b[0;31mKeyError\u001b[0m: 'loss'"
          ]
        }
      ]
    },
    {
      "cell_type": "code",
      "execution_count": null,
      "metadata": {
        "colab": {
          "base_uri": "https://localhost:8080/"
        },
        "id": "0otTu-E_H4-N",
        "outputId": "8712c6fc-d801-4ff8-a2ed-624f7e784354"
      },
      "outputs": [
        {
          "output_type": "stream",
          "name": "stdout",
          "text": [
            "1/1 [==============================] - 0s 30ms/step\n",
            "[[0.38940385 0.8296915 ]]\n",
            "yes tumor\n",
            "[[0.38940385 0.8296915 ]]\n"
          ]
        }
      ],
      "source": [
        "img = Image.open(r\"/content/drive/MyDrive/btd/pred/pred2.jpg\")\n",
        "img = img.resize((128, 128))\n",
        "\n",
        "img = np.array(img)\n",
        "\n",
        "img = np.reshape(img, (1, 128, 128, 3))\n",
        "\n",
        "prediction = model.predict(img)\n",
        "\n",
        "print(prediction)\n",
        "\n",
        "if prediction[0][0] > prediction[0][1]:\n",
        "    print(\"No tumor\")\n",
        "else:\n",
        "    print(\"yes tumor\")\n",
        "print(prediction)"
      ]
    },
    {
      "cell_type": "code",
      "execution_count": null,
      "metadata": {
        "colab": {
          "base_uri": "https://localhost:8080/"
        },
        "id": "QtMFP4ALzbBV",
        "outputId": "be185610-b58f-4a3c-a6ae-1fe62be7218b"
      },
      "outputs": [
        {
          "output_type": "stream",
          "name": "stdout",
          "text": [
            "Mounted at /content/drive\n"
          ]
        }
      ],
      "source": [
        "from google.colab import drive\n",
        "drive.mount('/content/drive')"
      ]
    }
  ],
  "metadata": {
    "accelerator": "GPU",
    "colab": {
      "provenance": [],
      "gpuType": "T4",
      "include_colab_link": true
    },
    "kernelspec": {
      "display_name": "Python 3",
      "name": "python3"
    },
    "language_info": {
      "name": "python"
    }
  },
  "nbformat": 4,
  "nbformat_minor": 0
}